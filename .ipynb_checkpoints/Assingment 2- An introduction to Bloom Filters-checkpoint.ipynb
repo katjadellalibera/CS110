{
 "cells": [
  {
   "cell_type": "markdown",
   "metadata": {},
   "source": [
    "# Bloom Filters\n",
    "### 1. supported operations and use cases\n",
    "\n",
    "### 2. Implementation of a Bloom Filter"
   ]
  },
  {
   "cell_type": "code",
   "execution_count": null,
   "metadata": {
    "collapsed": true
   },
   "outputs": [],
   "source": []
  },
  {
   "cell_type": "markdown",
   "metadata": {},
   "source": [
    "### 3. Description of the Hash Function used"
   ]
  },
  {
   "cell_type": "markdown",
   "metadata": {},
   "source": [
    "### 4. Analysis of scaling\n",
    "4.1. *In terms of memory size as a function of the false positive rate*<br>\n",
    "<br>\n",
    "4.2. *In terms of memory size as a function of the number of items stored* <br>\n",
    "<br>\n",
    "4.3. *In terms of access time as a function of the false positive rate*<br>\n",
    "<br>\n",
    "4.4. *In terms of access time as a function of the number of items stored*<br>"
   ]
  },
  {
   "cell_type": "markdown",
   "metadata": {},
   "source": [
    "### 5. Comparison of theoretical false positive rate and implementation's false positive rate"
   ]
  },
  {
   "cell_type": "code",
   "execution_count": null,
   "metadata": {
    "collapsed": true
   },
   "outputs": [],
   "source": []
  }
 ],
 "metadata": {
  "kernelspec": {
   "display_name": "Python 3",
   "language": "python",
   "name": "python3"
  },
  "language_info": {
   "codemirror_mode": {
    "name": "ipython",
    "version": 3
   },
   "file_extension": ".py",
   "mimetype": "text/x-python",
   "name": "python",
   "nbconvert_exporter": "python",
   "pygments_lexer": "ipython3",
   "version": "3.6.3"
  }
 },
 "nbformat": 4,
 "nbformat_minor": 2
}
