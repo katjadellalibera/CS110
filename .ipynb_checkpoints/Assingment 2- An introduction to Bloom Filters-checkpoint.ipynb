{
 "cells": [
  {
   "cell_type": "markdown",
   "metadata": {},
   "source": [
    "# Bloom Filters\n",
    "### 1. supported operations and use cases\n",
    "Bloom filters are a data structure that remembers which elements have been seen before and which ones have not, using very little space. For this, it does not store any data directly, but rather consists of many boolean values that are turned to 1 when an element is \"inserted\". Every element will have a few hash functions that determine which elements of the bloom filter to turn to true, if an element is already true, it will not change how the function works. This also means insert runs at constant time.<br> To look up an element, one simply has to hash the element and check all the corresponding positions in the bloom filter. This also runs in positive time complexity.<br> Two potential downsides of bloom filters are the fact that the \"delete\" operation is not supported, and the existence of \"phantom elements\" that will cause a false positive rate. Since we are not keeping track of which elements turned a position to True, we might search an element and think it is there because other elements turned all of its hash functions to true.<br>\n",
    "In summary, the supported operations are:\n",
    "1. insert\n",
    "2. search\n",
    "\n",
    "There are variations of bloom filters that also support deletion, but this exploration will focus on the classic case.<br>\n",
    "Use cases:<br>\n",
    "Bloom filters are useful for any situations where memory usage is expensive and the downsides of not being able to delete elements and having the possibility of false positives is not significant. Some examples are Medium keeping track of which articles a reader has already visited so they do not appear in the recommendations, or Google Chrome using Bloom filters to identify malicious URLs (used to).<br>\n",
    "\n",
    "### 2. Implementation of a Bloom Filter"
   ]
  },
  {
   "cell_type": "code",
   "execution_count": 9,
   "metadata": {},
   "outputs": [
    {
     "ename": "SyntaxError",
     "evalue": "invalid syntax (<ipython-input-9-b7292ac2f6cb>, line 1)",
     "output_type": "error",
     "traceback": [
      "\u001b[1;36m  File \u001b[1;32m\"<ipython-input-9-b7292ac2f6cb>\"\u001b[1;36m, line \u001b[1;32m1\u001b[0m\n\u001b[1;33m    sudo pip install mmh3\u001b[0m\n\u001b[1;37m           ^\u001b[0m\n\u001b[1;31mSyntaxError\u001b[0m\u001b[1;31m:\u001b[0m invalid syntax\n"
     ]
    }
   ],
   "source": [
    "import mmh3 # importing the mmh3 hashing functions\n",
    "from bitarray import bitarray # importing the bitarray structure\n",
    "\n",
    "class bloomfilter:\n",
    "    def _init_(self,length,n_hash): # initializing a bloom filter with size n and n_hash hash functions\n",
    "        self.length=length # the size of the bloomfilter is n\n",
    "        self.hash_functions=n_hash # sets an element equal to the number of hash functions\n",
    "        self.bit_array=bitarray(length) # creates a bitarray of size n\n",
    "        self.bit_array.setall(0) # sets all the elements in the bitarray to zero\n",
    "        \n",
    "    def insert(self,elem): # function to insert elements in the bloomfilter\n",
    "        for seed in range(self.n_hash):\n",
    "            self.bitarray[mmh3.hash(elem,seed)%self.length]=1\n",
    "    \n",
    "    def search(self,elem): # function to search elements in the bloomfilter\n",
    "        for seed in range(self.n_hash): #iterating through n_hash hash function\n",
    "            if self.bitarray[mmh3.hash(elem,seed)%self.size]==0:  # using different seeds\n",
    "                return False  # return false if the element is not in the bloom filter\n",
    "        return True  # return true if it is            "
   ]
  },
  {
   "cell_type": "code",
   "execution_count": 18,
   "metadata": {},
   "outputs": [
    {
     "ename": "TypeError",
     "evalue": "Unicode-objects must be encoded before hashing",
     "output_type": "error",
     "traceback": [
      "\u001b[1;31m---------------------------------------------------------------------------\u001b[0m",
      "\u001b[1;31mTypeError\u001b[0m                                 Traceback (most recent call last)",
      "\u001b[1;32m<ipython-input-18-80eb2aa372b9>\u001b[0m in \u001b[0;36m<module>\u001b[1;34m()\u001b[0m\n\u001b[1;32m----> 1\u001b[1;33m \u001b[0mh\u001b[0m\u001b[1;33m=\u001b[0m\u001b[0mhashlib\u001b[0m\u001b[1;33m.\u001b[0m\u001b[0msha224\u001b[0m\u001b[1;33m(\u001b[0m\u001b[1;34m\"test\"\u001b[0m\u001b[1;33m)\u001b[0m\u001b[1;33m.\u001b[0m\u001b[0mdigest\u001b[0m\u001b[1;33m(\u001b[0m\u001b[1;33m)\u001b[0m\u001b[1;33m\u001b[0m\u001b[0m\n\u001b[0m",
      "\u001b[1;31mTypeError\u001b[0m: Unicode-objects must be encoded before hashing"
     ]
    }
   ],
   "source": [
    "h=hashlib.sha224(\"test\").digest()\n"
   ]
  },
  {
   "cell_type": "markdown",
   "metadata": {},
   "source": [
    "### 3. Description of the Hash Function used"
   ]
  },
  {
   "cell_type": "markdown",
   "metadata": {},
   "source": [
    "### 4. Analysis of scaling\n",
    "4.1. *In terms of memory size as a function of the false positive rate*<br>\n",
    "The false positive rate increases with the number of elements relative to the size "
   ]
  },
  {
   "cell_type": "markdown",
   "metadata": {},
   "source": [
    "4.2. *In terms of memory size as a function of the number of items stored* <br>\n",
    "Since the number of bits does not increase with the number of items stored, the memory size does not change with more items stored."
   ]
  },
  {
   "cell_type": "markdown",
   "metadata": {},
   "source": [
    "4.3. *In terms of access time as a function of the false positive rate*<br>\n"
   ]
  },
  {
   "cell_type": "markdown",
   "metadata": {},
   "source": [
    "4.4. *In terms of access time as a function of the number of items stored*<br>"
   ]
  },
  {
   "cell_type": "markdown",
   "metadata": {},
   "source": [
    "### 5. Comparison of theoretical false positive rate and implementation's false positive rate"
   ]
  },
  {
   "cell_type": "code",
   "execution_count": null,
   "metadata": {},
   "outputs": [],
   "source": []
  },
  {
   "cell_type": "markdown",
   "metadata": {},
   "source": []
  }
 ],
 "metadata": {
  "kernelspec": {
   "display_name": "Python 3",
   "language": "python",
   "name": "python3"
  },
  "language_info": {
   "codemirror_mode": {
    "name": "ipython",
    "version": 3
   },
   "file_extension": ".py",
   "mimetype": "text/x-python",
   "name": "python",
   "nbconvert_exporter": "python",
   "pygments_lexer": "ipython3",
   "version": "3.6.3"
  }
 },
 "nbformat": 4,
 "nbformat_minor": 2
}
