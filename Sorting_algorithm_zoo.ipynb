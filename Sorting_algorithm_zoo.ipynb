{
 "cells": [
  {
   "cell_type": "code",
   "execution_count": 1,
   "metadata": {
    "collapsed": true
   },
   "outputs": [],
   "source": [
    "def insertionSort(a):\n",
    "    for j in range(1,len(a)):\n",
    "        key= a[j]\n",
    "        i = j-1\n",
    "        while i>=0 and a[i]>key:\n",
    "            a[i+1]=a[i]\n",
    "            i-=1\n",
    "        a[i+1]=key\n",
    "    return a"
   ]
  },
  {
   "cell_type": "code",
   "execution_count": 2,
   "metadata": {
    "collapsed": true
   },
   "outputs": [],
   "source": [
    "def bubbleSort(a):\n",
    "    for i in range(len(a)-1,0,-1):\n",
    "        for j in range(i):\n",
    "            if a[j]>a[j+1]:\n",
    "                k= a[j]\n",
    "                a[j]=a[j+1]\n",
    "                a[j+1]= k\n",
    "    return a"
   ]
  },
  {
   "cell_type": "code",
   "execution_count": 3,
   "metadata": {
    "collapsed": true
   },
   "outputs": [],
   "source": [
    "def selectionSort(a):\n",
    "    for i in range(len(a)-1,0,-1):\n",
    "        MaxPosition=0\n",
    "        for j in range(1,i+1):\n",
    "            if a[j]>a[MaxPosition]:\n",
    "                MaxPosition= j\n",
    "        k = a[i]\n",
    "        a[i]= a[MaxPosition]\n",
    "        a[MaxPosition]=k\n",
    "    return a\n"
   ]
  },
  {
   "cell_type": "code",
   "execution_count": 4,
   "metadata": {
    "collapsed": true
   },
   "outputs": [],
   "source": [
    "def quickSort(a):\n",
    "    if len(a)<=1:\n",
    "        return a\n",
    "    pivot= a[len(a)//2]\n",
    "    return quickSort([i for i in a if i<pivot])+[i for i in a if i==pivot]+quickSort([j for j in a if j>pivot])"
   ]
  },
  {
   "cell_type": "code",
   "execution_count": null,
   "metadata": {
    "collapsed": true
   },
   "outputs": [],
   "source": []
  }
 ],
 "metadata": {
  "kernelspec": {
   "display_name": "Python 3",
   "language": "python",
   "name": "python3"
  },
  "language_info": {
   "codemirror_mode": {
    "name": "ipython",
    "version": 3
   },
   "file_extension": ".py",
   "mimetype": "text/x-python",
   "name": "python",
   "nbconvert_exporter": "python",
   "pygments_lexer": "ipython3",
   "version": "3.6.3"
  }
 },
 "nbformat": 4,
 "nbformat_minor": 2
}
